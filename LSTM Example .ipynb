{
 "cells": [
  {
   "cell_type": "markdown",
   "id": "5a38f312",
   "metadata": {},
   "source": [
    "## (Q) Load the dataset 'AirPassengers.csv' (see the attachment). Using LSTM, Solve this regression problem. Given the number of airline passengers (in thousands per month) this month, what is the number of airline passengers (in thousands per month) next month? State your observations on the RMSE calculated over the training and test datasets in comparison to the original dataset."
   ]
  },
  {
   "cell_type": "markdown",
   "id": "01908a6f",
   "metadata": {},
   "source": [
    "### (1) Let us first import all the functions and classes we will use;"
   ]
  },
  {
   "cell_type": "code",
   "execution_count": null,
   "id": "38813496",
   "metadata": {},
   "outputs": [],
   "source": [
    "import numpy as np\n",
    "import matplotlib.pyplot as plt\n",
    "import pandas as pd\n",
    "import tensorflow as tf\n",
    "from tensorflow import keras\n",
    "from tensorflow.keras.models import Sequential\n",
    "from tensorflow.keras.layers import Dense\n",
    "from tensorflow.keras.layers import LSTM\n",
    "from sklearn.preprocessing import MinMaxScaler\n",
    "from sklearn.metrics import mean_squared_error"
   ]
  },
  {
   "cell_type": "markdown",
   "id": "1ab96000",
   "metadata": {},
   "source": [
    "### (2) Let us fix the random number seed to ensure, our results are reproducible;"
   ]
  },
  {
   "cell_type": "code",
   "execution_count": null,
   "id": "553bf887",
   "metadata": {},
   "outputs": [],
   "source": [
    "tf.random.set_seed(7)"
   ]
  },
  {
   "cell_type": "markdown",
   "id": "9c7d52a8",
   "metadata": {},
   "source": [
    "### (3) Now, load the dataset 'AirPassengers.csv'  as a Pandas Data Frame;"
   ]
  },
  {
   "cell_type": "code",
   "execution_count": null,
   "id": "ad01e07a",
   "metadata": {},
   "outputs": [],
   "source": [
    "data = pd.read_csv(\"AirPassengers.csv\",index_col='Month', parse_dates=True)"
   ]
  },
  {
   "cell_type": "markdown",
   "id": "e350f26a",
   "metadata": {},
   "source": [
    "### (4) Let us check whether the dataset has been loaded properly or not by observing the first few rows of the dataset;"
   ]
  },
  {
   "cell_type": "code",
   "execution_count": null,
   "id": "76849478",
   "metadata": {},
   "outputs": [],
   "source": [
    "data.head()"
   ]
  },
  {
   "cell_type": "markdown",
   "id": "6ade722d",
   "metadata": {},
   "source": [
    "### (5) Let's visualize the data;"
   ]
  },
  {
   "cell_type": "code",
   "execution_count": null,
   "id": "d78f8413",
   "metadata": {},
   "outputs": [],
   "source": [
    "# Plotting graph b/w passengers & date;\n",
    "\n",
    "data.plot(figsize=(10, 6), color = 'red')"
   ]
  },
  {
   "cell_type": "markdown",
   "id": "143473de",
   "metadata": {},
   "source": [
    "### (6) Let us do the seasonal analysis of Time Series data;"
   ]
  },
  {
   "cell_type": "code",
   "execution_count": null,
   "id": "65d828c7",
   "metadata": {},
   "outputs": [],
   "source": [
    "from statsmodels.tsa.seasonal import seasonal_decompose\n",
    "\n",
    "results = seasonal_decompose(data['#Passengers'])\n",
    "\n",
    "results.plot()\n",
    "\n",
    "plt.tight_layout()"
   ]
  },
  {
   "cell_type": "markdown",
   "id": "4386bb58",
   "metadata": {},
   "source": [
    "### (7) We then extract the NumPy array from the data frame, followed by the conversion of the integer values to floating-point values, as these are more suitable for modeling with a neural network;"
   ]
  },
  {
   "cell_type": "code",
   "execution_count": 7,
   "id": "3effdffc",
   "metadata": {},
   "outputs": [],
   "source": [
    "dataset = data.values\n",
    "dataset = dataset.astype('float32')"
   ]
  },
  {
   "cell_type": "markdown",
   "id": "631546a2",
   "metadata": {},
   "source": [
    "### (8) As LSTMs are considered sensitive to the scale of the input data with activation functions like Sigmoid (default) or Tanh, it can be better to rescale the data to the range of 0-to-1,also known as normalizing. We can easily normalize the dataset using the MinMaxScal;"
   ]
  },
  {
   "cell_type": "code",
   "execution_count": 8,
   "id": "143b364a",
   "metadata": {},
   "outputs": [],
   "source": [
    "scaler = MinMaxScaler(feature_range=(0, 1))\n",
    "\n",
    "dataset = scaler.fit_transform(dataset)"
   ]
  },
  {
   "cell_type": "markdown",
   "id": "fa3d0003",
   "metadata": {},
   "source": [
    "### (9) In the case of time series data, there is a great importance of the sequence of values. Therefore, let us split the ordered dataset into Train and Test Datasets by calculating the index of the split point and separating the data into the training datasets;\n",
    "    \n",
    "Here, 67% of the observations are used to train the model, \n",
    "leaving the remaining 33% for testing the model."
   ]
  },
  {
   "cell_type": "code",
   "execution_count": 9,
   "id": "0e03ee56",
   "metadata": {},
   "outputs": [
    {
     "name": "stdout",
     "output_type": "stream",
     "text": [
      "96 48\n"
     ]
    }
   ],
   "source": [
    "# Split into Train & Test sets;\n",
    "\n",
    "train_size = int(len(dataset) * 0.67)\n",
    "test_size = len(dataset) - train_size\n",
    "train, test = dataset[0:train_size,:], dataset[train_size:len(dataset),:]\n",
    "print(len(train), len(test))"
   ]
  },
  {
   "cell_type": "markdown",
   "id": "d86acc74",
   "metadata": {},
   "source": [
    "### (10) Now, let us define a function for creating a new dataset, where the function takes two arguments: the dataset (for converting the NumPy array into a dataset) and the look_back (the number of previous time steps to use as input variables for predicting the next time period);\n",
    "\n",
    "**This default will create a dataset where,\n",
    "**X => The passengers at a given Month (t),\n",
    "**Y => The passengers at the next Month (t + 1)."
   ]
  },
  {
   "cell_type": "code",
   "execution_count": 10,
   "id": "31461f65",
   "metadata": {},
   "outputs": [],
   "source": [
    "# Convert an array of values into a Dataset Matrix;\n",
    "\n",
    "def create_dataset(dataset, look_back=1):\n",
    "    \n",
    " dataX, dataY = [], []\n",
    "\n",
    " for i in range(len(dataset)-look_back-1):\n",
    "        \n",
    "  a = dataset[i:(i+look_back), 0]\n",
    "\n",
    "  dataX.append(a)\n",
    "    \n",
    "  dataY.append(dataset[i + look_back, 0])\n",
    "\n",
    " return np.array(dataX), np.array(dataY)"
   ]
  },
  {
   "cell_type": "markdown",
   "id": "d6d4e062",
   "metadata": {},
   "source": [
    "### (11) Now we use this function for preparing the train and test datasets for Modeling;\n",
    "\n",
    "**Reshape into X=t and Y=(t+1);"
   ]
  },
  {
   "cell_type": "code",
   "execution_count": 12,
   "id": "cebe7505",
   "metadata": {},
   "outputs": [],
   "source": [
    "look_back = 1\n",
    "\n",
    "trainX, trainY = create_dataset(train, look_back)\n",
    "\n",
    "testX, testY = create_dataset(test, look_back)"
   ]
  },
  {
   "cell_type": "markdown",
   "id": "6cd42114",
   "metadata": {},
   "source": [
    "### (12) We have to provide the input data (X) in the form of [samples, time steps, features] to the LSTM network. The present form of the data is [samples, features]. Here, we have to add a one-time step for each sample as per the problem we are addressing with the help of numpy.reshape();"
   ]
  },
  {
   "cell_type": "code",
   "execution_count": 13,
   "id": "2bd89d74",
   "metadata": {},
   "outputs": [],
   "source": [
    "# Reshape Input to be [samples, time steps, features];\n",
    "\n",
    "trainX = np.reshape(trainX, (trainX.shape[0], 1, trainX.shape[1]))\n",
    "\n",
    "testX = np.reshape(testX, (testX.shape[0], 1, testX.shape[1]))"
   ]
  },
  {
   "cell_type": "markdown",
   "id": "df9fcbe3",
   "metadata": {},
   "source": [
    "### (13) Let us design the LSTM (Long Short Term Memory) network in the following manner to fit with the given problem: \n",
    "   **A visible layer with 1 input, a hidden layer with 4 LSTM blocks\n",
    "     and an output layer that makes a single value prediction. \n",
    "     The LSTM blocks have used the default sigmoid activation function. \n",
    "     We train the network for 100 epochs, \n",
    "     and here we use a batch size of 1."
   ]
  },
  {
   "cell_type": "code",
   "execution_count": 14,
   "id": "58a831c9",
   "metadata": {},
   "outputs": [
    {
     "name": "stdout",
     "output_type": "stream",
     "text": [
      "Epoch 1/100\n",
      "94/94 - 2s - loss: 0.0428 - 2s/epoch - 26ms/step\n",
      "Epoch 2/100\n",
      "94/94 - 0s - loss: 0.0205 - 180ms/epoch - 2ms/step\n",
      "Epoch 3/100\n",
      "94/94 - 0s - loss: 0.0158 - 167ms/epoch - 2ms/step\n",
      "Epoch 4/100\n",
      "94/94 - 0s - loss: 0.0145 - 182ms/epoch - 2ms/step\n",
      "Epoch 5/100\n",
      "94/94 - 0s - loss: 0.0135 - 183ms/epoch - 2ms/step\n",
      "Epoch 6/100\n",
      "94/94 - 0s - loss: 0.0124 - 167ms/epoch - 2ms/step\n",
      "Epoch 7/100\n",
      "94/94 - 0s - loss: 0.0115 - 193ms/epoch - 2ms/step\n",
      "Epoch 8/100\n",
      "94/94 - 0s - loss: 0.0106 - 175ms/epoch - 2ms/step\n",
      "Epoch 9/100\n",
      "94/94 - 0s - loss: 0.0098 - 186ms/epoch - 2ms/step\n",
      "Epoch 10/100\n",
      "94/94 - 0s - loss: 0.0089 - 197ms/epoch - 2ms/step\n",
      "Epoch 11/100\n",
      "94/94 - 0s - loss: 0.0080 - 199ms/epoch - 2ms/step\n",
      "Epoch 12/100\n",
      "94/94 - 0s - loss: 0.0072 - 189ms/epoch - 2ms/step\n",
      "Epoch 13/100\n",
      "94/94 - 0s - loss: 0.0064 - 196ms/epoch - 2ms/step\n",
      "Epoch 14/100\n",
      "94/94 - 0s - loss: 0.0058 - 181ms/epoch - 2ms/step\n",
      "Epoch 15/100\n",
      "94/94 - 0s - loss: 0.0051 - 200ms/epoch - 2ms/step\n",
      "Epoch 16/100\n",
      "94/94 - 0s - loss: 0.0046 - 185ms/epoch - 2ms/step\n",
      "Epoch 17/100\n",
      "94/94 - 0s - loss: 0.0040 - 200ms/epoch - 2ms/step\n",
      "Epoch 18/100\n",
      "94/94 - 0s - loss: 0.0035 - 192ms/epoch - 2ms/step\n",
      "Epoch 19/100\n",
      "94/94 - 0s - loss: 0.0032 - 186ms/epoch - 2ms/step\n",
      "Epoch 20/100\n",
      "94/94 - 0s - loss: 0.0029 - 197ms/epoch - 2ms/step\n",
      "Epoch 21/100\n",
      "94/94 - 0s - loss: 0.0026 - 200ms/epoch - 2ms/step\n",
      "Epoch 22/100\n",
      "94/94 - 0s - loss: 0.0024 - 194ms/epoch - 2ms/step\n",
      "Epoch 23/100\n",
      "94/94 - 0s - loss: 0.0023 - 195ms/epoch - 2ms/step\n",
      "Epoch 24/100\n",
      "94/94 - 0s - loss: 0.0022 - 185ms/epoch - 2ms/step\n",
      "Epoch 25/100\n",
      "94/94 - 0s - loss: 0.0022 - 189ms/epoch - 2ms/step\n",
      "Epoch 26/100\n",
      "94/94 - 0s - loss: 0.0021 - 217ms/epoch - 2ms/step\n",
      "Epoch 27/100\n",
      "94/94 - 0s - loss: 0.0021 - 205ms/epoch - 2ms/step\n",
      "Epoch 28/100\n",
      "94/94 - 0s - loss: 0.0020 - 192ms/epoch - 2ms/step\n",
      "Epoch 29/100\n",
      "94/94 - 0s - loss: 0.0021 - 189ms/epoch - 2ms/step\n",
      "Epoch 30/100\n",
      "94/94 - 0s - loss: 0.0021 - 188ms/epoch - 2ms/step\n",
      "Epoch 31/100\n",
      "94/94 - 0s - loss: 0.0020 - 188ms/epoch - 2ms/step\n",
      "Epoch 32/100\n",
      "94/94 - 0s - loss: 0.0021 - 159ms/epoch - 2ms/step\n",
      "Epoch 33/100\n",
      "94/94 - 0s - loss: 0.0021 - 183ms/epoch - 2ms/step\n",
      "Epoch 34/100\n",
      "94/94 - 0s - loss: 0.0020 - 168ms/epoch - 2ms/step\n",
      "Epoch 35/100\n",
      "94/94 - 0s - loss: 0.0021 - 172ms/epoch - 2ms/step\n",
      "Epoch 36/100\n",
      "94/94 - 0s - loss: 0.0021 - 162ms/epoch - 2ms/step\n",
      "Epoch 37/100\n",
      "94/94 - 0s - loss: 0.0021 - 173ms/epoch - 2ms/step\n",
      "Epoch 38/100\n",
      "94/94 - 0s - loss: 0.0020 - 173ms/epoch - 2ms/step\n",
      "Epoch 39/100\n",
      "94/94 - 0s - loss: 0.0020 - 157ms/epoch - 2ms/step\n",
      "Epoch 40/100\n",
      "94/94 - 0s - loss: 0.0020 - 177ms/epoch - 2ms/step\n",
      "Epoch 41/100\n",
      "94/94 - 0s - loss: 0.0020 - 165ms/epoch - 2ms/step\n",
      "Epoch 42/100\n",
      "94/94 - 0s - loss: 0.0020 - 157ms/epoch - 2ms/step\n",
      "Epoch 43/100\n",
      "94/94 - 0s - loss: 0.0020 - 176ms/epoch - 2ms/step\n",
      "Epoch 44/100\n",
      "94/94 - 0s - loss: 0.0020 - 165ms/epoch - 2ms/step\n",
      "Epoch 45/100\n",
      "94/94 - 0s - loss: 0.0021 - 172ms/epoch - 2ms/step\n",
      "Epoch 46/100\n",
      "94/94 - 0s - loss: 0.0020 - 171ms/epoch - 2ms/step\n",
      "Epoch 47/100\n",
      "94/94 - 0s - loss: 0.0020 - 173ms/epoch - 2ms/step\n",
      "Epoch 48/100\n",
      "94/94 - 0s - loss: 0.0021 - 157ms/epoch - 2ms/step\n",
      "Epoch 49/100\n",
      "94/94 - 0s - loss: 0.0020 - 181ms/epoch - 2ms/step\n",
      "Epoch 50/100\n",
      "94/94 - 0s - loss: 0.0020 - 168ms/epoch - 2ms/step\n",
      "Epoch 51/100\n",
      "94/94 - 0s - loss: 0.0020 - 167ms/epoch - 2ms/step\n",
      "Epoch 52/100\n",
      "94/94 - 0s - loss: 0.0020 - 170ms/epoch - 2ms/step\n",
      "Epoch 53/100\n",
      "94/94 - 0s - loss: 0.0020 - 164ms/epoch - 2ms/step\n",
      "Epoch 54/100\n",
      "94/94 - 0s - loss: 0.0020 - 168ms/epoch - 2ms/step\n",
      "Epoch 55/100\n",
      "94/94 - 0s - loss: 0.0020 - 155ms/epoch - 2ms/step\n",
      "Epoch 56/100\n",
      "94/94 - 0s - loss: 0.0020 - 179ms/epoch - 2ms/step\n",
      "Epoch 57/100\n",
      "94/94 - 0s - loss: 0.0020 - 166ms/epoch - 2ms/step\n",
      "Epoch 58/100\n",
      "94/94 - 0s - loss: 0.0020 - 166ms/epoch - 2ms/step\n",
      "Epoch 59/100\n",
      "94/94 - 0s - loss: 0.0020 - 169ms/epoch - 2ms/step\n",
      "Epoch 60/100\n",
      "94/94 - 0s - loss: 0.0020 - 173ms/epoch - 2ms/step\n",
      "Epoch 61/100\n",
      "94/94 - 0s - loss: 0.0020 - 174ms/epoch - 2ms/step\n",
      "Epoch 62/100\n",
      "94/94 - 0s - loss: 0.0021 - 176ms/epoch - 2ms/step\n",
      "Epoch 63/100\n",
      "94/94 - 0s - loss: 0.0020 - 174ms/epoch - 2ms/step\n",
      "Epoch 64/100\n",
      "94/94 - 0s - loss: 0.0020 - 192ms/epoch - 2ms/step\n",
      "Epoch 65/100\n",
      "94/94 - 0s - loss: 0.0020 - 183ms/epoch - 2ms/step\n",
      "Epoch 66/100\n",
      "94/94 - 0s - loss: 0.0020 - 171ms/epoch - 2ms/step\n",
      "Epoch 67/100\n",
      "94/94 - 0s - loss: 0.0021 - 172ms/epoch - 2ms/step\n",
      "Epoch 68/100\n",
      "94/94 - 0s - loss: 0.0020 - 167ms/epoch - 2ms/step\n",
      "Epoch 69/100\n",
      "94/94 - 0s - loss: 0.0020 - 162ms/epoch - 2ms/step\n",
      "Epoch 70/100\n",
      "94/94 - 0s - loss: 0.0020 - 173ms/epoch - 2ms/step\n",
      "Epoch 71/100\n",
      "94/94 - 0s - loss: 0.0020 - 157ms/epoch - 2ms/step\n",
      "Epoch 72/100\n",
      "94/94 - 0s - loss: 0.0020 - 174ms/epoch - 2ms/step\n",
      "Epoch 73/100\n",
      "94/94 - 0s - loss: 0.0020 - 176ms/epoch - 2ms/step\n",
      "Epoch 74/100\n",
      "94/94 - 0s - loss: 0.0021 - 173ms/epoch - 2ms/step\n",
      "Epoch 75/100\n",
      "94/94 - 0s - loss: 0.0020 - 166ms/epoch - 2ms/step\n",
      "Epoch 76/100\n",
      "94/94 - 0s - loss: 0.0020 - 184ms/epoch - 2ms/step\n",
      "Epoch 77/100\n",
      "94/94 - 0s - loss: 0.0020 - 153ms/epoch - 2ms/step\n",
      "Epoch 78/100\n",
      "94/94 - 0s - loss: 0.0020 - 175ms/epoch - 2ms/step\n",
      "Epoch 79/100\n",
      "94/94 - 0s - loss: 0.0020 - 167ms/epoch - 2ms/step\n",
      "Epoch 80/100\n",
      "94/94 - 0s - loss: 0.0020 - 161ms/epoch - 2ms/step\n",
      "Epoch 81/100\n",
      "94/94 - 0s - loss: 0.0020 - 173ms/epoch - 2ms/step\n",
      "Epoch 82/100\n",
      "94/94 - 0s - loss: 0.0021 - 165ms/epoch - 2ms/step\n",
      "Epoch 83/100\n",
      "94/94 - 0s - loss: 0.0020 - 174ms/epoch - 2ms/step\n",
      "Epoch 84/100\n",
      "94/94 - 0s - loss: 0.0020 - 163ms/epoch - 2ms/step\n",
      "Epoch 85/100\n",
      "94/94 - 0s - loss: 0.0020 - 158ms/epoch - 2ms/step\n",
      "Epoch 86/100\n",
      "94/94 - 0s - loss: 0.0020 - 173ms/epoch - 2ms/step\n",
      "Epoch 87/100\n",
      "94/94 - 0s - loss: 0.0021 - 157ms/epoch - 2ms/step\n",
      "Epoch 88/100\n",
      "94/94 - 0s - loss: 0.0020 - 158ms/epoch - 2ms/step\n",
      "Epoch 89/100\n",
      "94/94 - 0s - loss: 0.0020 - 173ms/epoch - 2ms/step\n",
      "Epoch 90/100\n",
      "94/94 - 0s - loss: 0.0020 - 172ms/epoch - 2ms/step\n",
      "Epoch 91/100\n",
      "94/94 - 0s - loss: 0.0020 - 159ms/epoch - 2ms/step\n",
      "Epoch 92/100\n",
      "94/94 - 0s - loss: 0.0020 - 172ms/epoch - 2ms/step\n",
      "Epoch 93/100\n",
      "94/94 - 0s - loss: 0.0020 - 165ms/epoch - 2ms/step\n",
      "Epoch 94/100\n",
      "94/94 - 0s - loss: 0.0020 - 171ms/epoch - 2ms/step\n",
      "Epoch 95/100\n",
      "94/94 - 0s - loss: 0.0021 - 164ms/epoch - 2ms/step\n",
      "Epoch 96/100\n",
      "94/94 - 0s - loss: 0.0020 - 165ms/epoch - 2ms/step\n",
      "Epoch 97/100\n",
      "94/94 - 0s - loss: 0.0020 - 173ms/epoch - 2ms/step\n",
      "Epoch 98/100\n",
      "94/94 - 0s - loss: 0.0020 - 158ms/epoch - 2ms/step\n",
      "Epoch 99/100\n",
      "94/94 - 0s - loss: 0.0020 - 169ms/epoch - 2ms/step\n",
      "Epoch 100/100\n",
      "94/94 - 0s - loss: 0.0020 - 172ms/epoch - 2ms/step\n",
      "Model: \"sequential\"\n",
      "_________________________________________________________________\n",
      " Layer (type)                Output Shape              Param #   \n",
      "=================================================================\n",
      " lstm (LSTM)                 (None, 4)                 96        \n",
      "                                                                 \n",
      " dense (Dense)               (None, 1)                 5         \n",
      "                                                                 \n",
      "=================================================================\n",
      "Total params: 101 (404.00 Byte)\n",
      "Trainable params: 101 (404.00 Byte)\n",
      "Non-trainable params: 0 (0.00 Byte)\n",
      "_________________________________________________________________\n"
     ]
    }
   ],
   "source": [
    "# Create and Fit the LSTM Network;\n",
    "\n",
    "model = Sequential()\n",
    "model.add(LSTM(4, input_shape=(1, look_back)))\n",
    "model.add(Dense(1))\n",
    "model.compile(loss='mean_squared_error', optimizer='adam')\n",
    "model.fit(trainX, trainY, epochs=100, batch_size=1, verbose=2)\n",
    "model.summary()"
   ]
  },
  {
   "cell_type": "markdown",
   "id": "b9514ede",
   "metadata": {},
   "source": [
    "### (14) We observe that the model has an average error of about 43 passengers (in thousand units per month) on the Training dataset and about 49 passengers (in thousand units per month) on the test dataset;"
   ]
  },
  {
   "cell_type": "code",
   "execution_count": 15,
   "id": "fb0b7d57",
   "metadata": {},
   "outputs": [
    {
     "name": "stdout",
     "output_type": "stream",
     "text": [
      "3/3 [==============================] - 1s 0s/step\n",
      "2/2 [==============================] - 0s 0s/step\n"
     ]
    }
   ],
   "source": [
    "# a) Make Predictions;\n",
    "\n",
    "trainPredict = model.predict(trainX)\n",
    "testPredict = model.predict(testX)"
   ]
  },
  {
   "cell_type": "code",
   "execution_count": 16,
   "id": "a294ee13",
   "metadata": {},
   "outputs": [],
   "source": [
    "# b) Invert Predictions;\n",
    "\n",
    "trainPredict = scaler.inverse_transform(trainPredict)\n",
    "trainY = scaler.inverse_transform([trainY])\n",
    "testPredict = scaler.inverse_transform(testPredict)\n",
    "testY = scaler.inverse_transform([testY])"
   ]
  },
  {
   "cell_type": "code",
   "execution_count": 17,
   "id": "8d7cfc28",
   "metadata": {},
   "outputs": [
    {
     "name": "stdout",
     "output_type": "stream",
     "text": [
      "Train Score: 22.72 RMSE\n",
      "Test Score: 48.87 RMSE\n"
     ]
    }
   ],
   "source": [
    "# c) Calculate Root Mean Squared Error;\n",
    "\n",
    "trainScore = np.sqrt(mean_squared_error(trainY[0], trainPredict[:,0]))\n",
    "print('Train Score: %.2f RMSE' % (trainScore))\n",
    "\n",
    "testScore = np.sqrt(mean_squared_error(testY[0], testPredict[:,0]))\n",
    "print('Test Score: %.2f RMSE' % (testScore))"
   ]
  },
  {
   "cell_type": "markdown",
   "id": "fe3c2361",
   "metadata": {},
   "source": [
    "### (15) The current plot shows the original dataset in blue, the predictions for the training dataset in saffron, and the predictions for the unseen test dataset in green;"
   ]
  },
  {
   "cell_type": "code",
   "execution_count": 18,
   "id": "561854f6",
   "metadata": {},
   "outputs": [],
   "source": [
    "# a) Shift Train predictions for plotting;\n",
    "\n",
    "trainPredictPlot = np.empty_like(dataset)\n",
    "trainPredictPlot[:, :] = np.nan\n",
    "trainPredictPlot[look_back:len(trainPredict)+look_back, :] = trainPredict"
   ]
  },
  {
   "cell_type": "code",
   "execution_count": 19,
   "id": "b347689c",
   "metadata": {},
   "outputs": [],
   "source": [
    "# b) Shift test predictions for plotting;\n",
    "\n",
    "testPredictPlot = np.empty_like(dataset)\n",
    "testPredictPlot[:, :] = np.nan\n",
    "testPredictPlot[len(trainPredict)+(look_back*2)+1:len(dataset)-1, :] = testPredict"
   ]
  },
  {
   "cell_type": "markdown",
   "id": "1010a726",
   "metadata": {},
   "source": [
    "### (16) Plot Baseline and Predictions;"
   ]
  },
  {
   "cell_type": "code",
   "execution_count": 20,
   "id": "e22438d2",
   "metadata": {},
   "outputs": [
    {
     "data": {
      "image/png": "[encoded data removed]",
      "text/plain": [
       "<Figure size 640x480 with 1 Axes>"
      ]
     },
     "metadata": {},
     "output_type": "display_data"
    }
   ],
   "source": [
    "plt.plot(scaler.inverse_transform(dataset))\n",
    "plt.plot(trainPredictPlot)\n",
    "plt.plot(testPredictPlot)\n",
    "plt.legend([\"Original Dataset\", \"Prediction for the Training Dataset\", \"Prediction for the Test Dataset\"], loc =\"upper left\")\n",
    "plt.show()"
   ]
  },
  {
   "cell_type": "markdown",
   "id": "90e5ec34",
   "metadata": {},
   "source": [
    "**We can observe that the model did an excellent job of fitting both the Training and Test Datasets."
   ]
  }
 ],
 "metadata": {
  "kernelspec": {
   "display_name": "Python 3 (ipykernel)",
   "language": "python",
   "name": "python3"
  },
  "language_info": {
   "codemirror_mode": {
    "name": "ipython",
    "version": 3
   },
   "file_extension": ".py",
   "mimetype": "text/x-python",
   "name": "python",
   "nbconvert_exporter": "python",
   "pygments_lexer": "ipython3",
   "version": "3.11.4"
  }
 },
 "nbformat": 4,
 "nbformat_minor": 5
}
